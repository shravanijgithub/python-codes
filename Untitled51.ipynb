{
  "nbformat": 4,
  "nbformat_minor": 0,
  "metadata": {
    "colab": {
      "provenance": [],
      "authorship_tag": "ABX9TyNYGH5BvLAqNwGjO7+EAEjN",
      "include_colab_link": true
    },
    "kernelspec": {
      "name": "python3",
      "display_name": "Python 3"
    },
    "language_info": {
      "name": "python"
    }
  },
  "cells": [
    {
      "cell_type": "markdown",
      "metadata": {
        "id": "view-in-github",
        "colab_type": "text"
      },
      "source": [
        "<a href=\"https://colab.research.google.com/github/shravanijgithub/python-codes/blob/main/Untitled51.ipynb\" target=\"_parent\"><img src=\"https://colab.research.google.com/assets/colab-badge.svg\" alt=\"Open In Colab\"/></a>"
      ]
    },
    {
      "cell_type": "code",
      "execution_count": 2,
      "metadata": {
        "colab": {
          "base_uri": "https://localhost:8080/"
        },
        "id": "SWzXMjivRhCG",
        "outputId": "4dd0309e-c336-4acd-e02e-1b9ec3b2da1f"
      },
      "outputs": [
        {
          "output_type": "stream",
          "name": "stdout",
          "text": [
            "MH 12 AB 1234: Valid\n",
            "DL 09 CD 5678: Valid\n",
            "KA 18 EF 9999: Valid\n",
            "MH123AB1234: Invalid\n",
            "MH 12A AB 123: Invalid\n",
            "GJ 03 XYZ 5678: Invalid\n"
          ]
        }
      ],
      "source": [
        "import re\n",
        "\n",
        "\n",
        "pattern = re.compile(r'^[A-Z]{2} \\d{2} [A-Z]{2} \\d{4}$')\n",
        "\n",
        "# validate  vehicle no\n",
        "def is_valid_number_plate(number_plate):\n",
        "    return bool(pattern.match(number_plate))\n",
        "\n",
        "# Test cases\n",
        "plates = [\n",
        "    \"MH 12 AB 1234\",  # Valid plate\n",
        "    \"DL 09 CD 5678\",\n",
        "    \"KA 18 EF 9999\",\n",
        "    \"MH123AB1234\",    # Invalid  missing spaces\n",
        "    \"MH 12A AB 123\",  # Invalid  incorrect format\n",
        "    \"GJ 03 XYZ 5678\"  # Invalid  more letters\n",
        "]\n",
        "\n",
        "#each no plate\n",
        "for plate in plates:\n",
        "    result = \"Valid\" if is_valid_number_plate(plate) else \"Invalid\"\n",
        "    print(f\"{plate}: {result}\")\n"
      ]
    },
    {
      "cell_type": "code",
      "source": [],
      "metadata": {
        "id": "jmQT6NbmR10T"
      },
      "execution_count": null,
      "outputs": []
    }
  ]
}