{
  "nbformat": 4,
  "nbformat_minor": 0,
  "metadata": {
    "colab": {
      "provenance": [],
      "authorship_tag": "ABX9TyPForl55X+H3o+FfO2HKWjG",
      "include_colab_link": true
    },
    "kernelspec": {
      "name": "python3",
      "display_name": "Python 3"
    },
    "language_info": {
      "name": "python"
    }
  },
  "cells": [
    {
      "cell_type": "markdown",
      "metadata": {
        "id": "view-in-github",
        "colab_type": "text"
      },
      "source": [
        "<a href=\"https://colab.research.google.com/github/shravanijgithub/python-codes/blob/main/Untitled50.ipynb\" target=\"_parent\"><img src=\"https://colab.research.google.com/assets/colab-badge.svg\" alt=\"Open In Colab\"/></a>"
      ]
    },
    {
      "cell_type": "code",
      "execution_count": 1,
      "metadata": {
        "colab": {
          "base_uri": "https://localhost:8080/"
        },
        "id": "WAWl8oU0P5fC",
        "outputId": "2144d9f0-6d65-4fce-a0e3-87aba326d029"
      },
      "outputs": [
        {
          "output_type": "stream",
          "name": "stdout",
          "text": [
            "Is the computer powering on?\n",
            "Answer (Yes/No): no\n",
            "Solution: Check the power supply and cables\n"
          ]
        }
      ],
      "source": [
        "# Knowledge Base (K_Base)\n",
        "K_Base = {\n",
        "    \"Is the computer powering on?\": {\n",
        "        \"Yes\": {\n",
        "            \"Is there a beeping sound?\": {\n",
        "                \"Yes\": \"Check the RAM and CPU\",\n",
        "                \"No\": {\n",
        "                    \"Is the display showing any output?\": {\n",
        "                        \"Yes\": \"Check the display connections and settings\",\n",
        "                        \"No\": \"Check the power supply and motherboard\"\n",
        "                    }\n",
        "                }\n",
        "            }\n",
        "        },\n",
        "        \"No\": \"Check the power supply and cables\"\n",
        "    }\n",
        "}\n",
        "\n",
        "# Function to traverse the knowledge base\n",
        "def troubleshoot(kb):\n",
        "    question = list(kb.keys())[0]  # Get the first question from the KB\n",
        "    print(question)\n",
        "    answer = input(\"Answer (Yes/No): \").capitalize()\n",
        "\n",
        "    if answer in kb[question]:\n",
        "        next_step = kb[question][answer]\n",
        "        if isinstance(next_step, dict):\n",
        "            troubleshoot(next_step)  # Recursively go deeper if there are more questions\n",
        "        else:\n",
        "            print(\"Solution:\", next_step)  # Output the solution if it's a string (leaf node)\n",
        "    else:\n",
        "        print(\"Invalid input. Please answer with 'Yes' or 'No'.\")\n",
        "\n",
        "# Start troubleshooting\n",
        "troubleshoot(K_Base)\n"
      ]
    }
  ]
}